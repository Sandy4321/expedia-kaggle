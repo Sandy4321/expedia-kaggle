{
 "cells": [
  {
   "cell_type": "code",
   "execution_count": 1,
   "metadata": {
    "collapsed": false
   },
   "outputs": [
    {
     "name": "stdout",
     "output_type": "stream",
     "text": [
      "Hello world\n"
     ]
    }
   ],
   "source": [
    "print \"Hello world\""
   ]
  },
  {
   "cell_type": "code",
   "execution_count": 2,
   "metadata": {
    "collapsed": false
   },
   "outputs": [],
   "source": [
    "import pandas as pd\n",
    "import numpy as np\n"
   ]
  },
  {
   "cell_type": "code",
   "execution_count": 9,
   "metadata": {
    "collapsed": false
   },
   "outputs": [],
   "source": [
    "expedia_train = pd.read_csv(\"train.csv\")\n",
    "# print expedia_train.head(5)\n",
    "\n"
   ]
  },
  {
   "cell_type": "code",
   "execution_count": null,
   "metadata": {
    "collapsed": false
   },
   "outputs": [],
   "source": [
    "#Get columns from train\n",
    "columns = expedia_train.columns\n",
    "# Analyze features size (if categorical or not)\n",
    "for col in columns:\n",
    "    print(col)\n",
    "    print(len(set(expedia_train[col])))\n",
    "    print(79*'*')"
   ]
  },
  {
   "cell_type": "code",
   "execution_count": 49,
   "metadata": {
    "collapsed": false
   },
   "outputs": [
    {
     "data": {
      "text/html": [
       "<div>\n",
       "<table border=\"1\" class=\"dataframe\">\n",
       "  <thead>\n",
       "    <tr style=\"text-align: right;\">\n",
       "      <th></th>\n",
       "      <th>srch_destination_id</th>\n",
       "      <th>d1</th>\n",
       "      <th>d2</th>\n",
       "      <th>d3</th>\n",
       "      <th>d4</th>\n",
       "      <th>d5</th>\n",
       "      <th>d6</th>\n",
       "      <th>d7</th>\n",
       "      <th>d8</th>\n",
       "      <th>d9</th>\n",
       "      <th>d10</th>\n",
       "      <th>d11</th>\n",
       "      <th>d12</th>\n",
       "      <th>d13</th>\n",
       "      <th>d14</th>\n",
       "      <th>...</th>\n",
       "      <th>d135</th>\n",
       "      <th>d136</th>\n",
       "      <th>d137</th>\n",
       "      <th>d138</th>\n",
       "      <th>d139</th>\n",
       "      <th>d140</th>\n",
       "      <th>d141</th>\n",
       "      <th>d142</th>\n",
       "      <th>d143</th>\n",
       "      <th>d144</th>\n",
       "      <th>d145</th>\n",
       "      <th>d146</th>\n",
       "      <th>d147</th>\n",
       "      <th>d148</th>\n",
       "      <th>d149</th>\n",
       "    </tr>\n",
       "  </thead>\n",
       "  <tbody>\n",
       "    <tr>\n",
       "      <th>0</th>\n",
       "      <td>0</td>\n",
       "      <td>-2.198657</td>\n",
       "      <td>-2.198657</td>\n",
       "      <td>-2.198657</td>\n",
       "      <td>-2.198657</td>\n",
       "      <td>-2.198657</td>\n",
       "      <td>-1.897627</td>\n",
       "      <td>-2.198657</td>\n",
       "      <td>-2.198657</td>\n",
       "      <td>-1.897627</td>\n",
       "      <td>-2.198657</td>\n",
       "      <td>-2.198657</td>\n",
       "      <td>-2.198657</td>\n",
       "      <td>-2.198657</td>\n",
       "      <td>-2.198657</td>\n",
       "      <td>...</td>\n",
       "      <td>-2.198657</td>\n",
       "      <td>-2.198657</td>\n",
       "      <td>-2.198657</td>\n",
       "      <td>-2.198657</td>\n",
       "      <td>-2.198657</td>\n",
       "      <td>-2.198657</td>\n",
       "      <td>-2.198657</td>\n",
       "      <td>-2.198657</td>\n",
       "      <td>-2.198657</td>\n",
       "      <td>-2.198657</td>\n",
       "      <td>-2.198657</td>\n",
       "      <td>-2.198657</td>\n",
       "      <td>-2.198657</td>\n",
       "      <td>-2.198657</td>\n",
       "      <td>-2.198657</td>\n",
       "    </tr>\n",
       "    <tr>\n",
       "      <th>1</th>\n",
       "      <td>1</td>\n",
       "      <td>-2.181690</td>\n",
       "      <td>-2.181690</td>\n",
       "      <td>-2.181690</td>\n",
       "      <td>-2.082564</td>\n",
       "      <td>-2.181690</td>\n",
       "      <td>-2.165028</td>\n",
       "      <td>-2.181690</td>\n",
       "      <td>-2.181690</td>\n",
       "      <td>-2.031597</td>\n",
       "      <td>-2.181690</td>\n",
       "      <td>-2.181690</td>\n",
       "      <td>-2.181690</td>\n",
       "      <td>-2.181690</td>\n",
       "      <td>-2.181690</td>\n",
       "      <td>...</td>\n",
       "      <td>-2.181690</td>\n",
       "      <td>-2.181690</td>\n",
       "      <td>-2.148982</td>\n",
       "      <td>-2.181690</td>\n",
       "      <td>-2.181690</td>\n",
       "      <td>-2.165028</td>\n",
       "      <td>-2.181690</td>\n",
       "      <td>-2.165028</td>\n",
       "      <td>-2.181690</td>\n",
       "      <td>-2.181690</td>\n",
       "      <td>-2.165028</td>\n",
       "      <td>-2.181690</td>\n",
       "      <td>-2.181690</td>\n",
       "      <td>-2.181690</td>\n",
       "      <td>-2.181690</td>\n",
       "    </tr>\n",
       "    <tr>\n",
       "      <th>2</th>\n",
       "      <td>2</td>\n",
       "      <td>-2.183490</td>\n",
       "      <td>-2.224164</td>\n",
       "      <td>-2.224164</td>\n",
       "      <td>-2.189562</td>\n",
       "      <td>-2.105819</td>\n",
       "      <td>-2.075407</td>\n",
       "      <td>-2.224164</td>\n",
       "      <td>-2.118483</td>\n",
       "      <td>-2.140393</td>\n",
       "      <td>-2.224164</td>\n",
       "      <td>-2.209855</td>\n",
       "      <td>-2.224164</td>\n",
       "      <td>-2.110723</td>\n",
       "      <td>-2.186008</td>\n",
       "      <td>...</td>\n",
       "      <td>-2.224164</td>\n",
       "      <td>-2.224164</td>\n",
       "      <td>-2.214572</td>\n",
       "      <td>-2.186008</td>\n",
       "      <td>-2.191569</td>\n",
       "      <td>-2.224164</td>\n",
       "      <td>-2.224164</td>\n",
       "      <td>-2.196379</td>\n",
       "      <td>-2.224164</td>\n",
       "      <td>-2.192009</td>\n",
       "      <td>-2.224164</td>\n",
       "      <td>-2.224164</td>\n",
       "      <td>-2.224164</td>\n",
       "      <td>-2.224164</td>\n",
       "      <td>-2.057548</td>\n",
       "    </tr>\n",
       "    <tr>\n",
       "      <th>3</th>\n",
       "      <td>3</td>\n",
       "      <td>-2.177409</td>\n",
       "      <td>-2.177409</td>\n",
       "      <td>-2.177409</td>\n",
       "      <td>-2.177409</td>\n",
       "      <td>-2.177409</td>\n",
       "      <td>-2.115485</td>\n",
       "      <td>-2.177409</td>\n",
       "      <td>-2.177409</td>\n",
       "      <td>-2.177409</td>\n",
       "      <td>-2.177409</td>\n",
       "      <td>-2.161081</td>\n",
       "      <td>-2.177409</td>\n",
       "      <td>-2.177409</td>\n",
       "      <td>-2.177409</td>\n",
       "      <td>...</td>\n",
       "      <td>-2.177409</td>\n",
       "      <td>-2.177409</td>\n",
       "      <td>-2.115485</td>\n",
       "      <td>-2.177409</td>\n",
       "      <td>-2.161081</td>\n",
       "      <td>-2.161081</td>\n",
       "      <td>-2.177409</td>\n",
       "      <td>-2.177409</td>\n",
       "      <td>-2.177409</td>\n",
       "      <td>-2.177409</td>\n",
       "      <td>-2.177409</td>\n",
       "      <td>-2.177409</td>\n",
       "      <td>-2.177409</td>\n",
       "      <td>-2.177409</td>\n",
       "      <td>-2.177409</td>\n",
       "    </tr>\n",
       "    <tr>\n",
       "      <th>4</th>\n",
       "      <td>4</td>\n",
       "      <td>-2.189562</td>\n",
       "      <td>-2.187783</td>\n",
       "      <td>-2.194008</td>\n",
       "      <td>-2.171153</td>\n",
       "      <td>-2.152303</td>\n",
       "      <td>-2.056618</td>\n",
       "      <td>-2.194008</td>\n",
       "      <td>-2.194008</td>\n",
       "      <td>-2.145911</td>\n",
       "      <td>-2.194008</td>\n",
       "      <td>-2.089094</td>\n",
       "      <td>-2.194008</td>\n",
       "      <td>-2.155205</td>\n",
       "      <td>-2.070995</td>\n",
       "      <td>...</td>\n",
       "      <td>-2.194008</td>\n",
       "      <td>-2.194008</td>\n",
       "      <td>-2.151470</td>\n",
       "      <td>-2.194008</td>\n",
       "      <td>-2.163242</td>\n",
       "      <td>-2.187356</td>\n",
       "      <td>-2.194008</td>\n",
       "      <td>-2.191779</td>\n",
       "      <td>-2.194008</td>\n",
       "      <td>-2.194008</td>\n",
       "      <td>-2.185161</td>\n",
       "      <td>-2.194008</td>\n",
       "      <td>-2.194008</td>\n",
       "      <td>-2.194008</td>\n",
       "      <td>-2.188037</td>\n",
       "    </tr>\n",
       "  </tbody>\n",
       "</table>\n",
       "<p>5 rows × 150 columns</p>\n",
       "</div>"
      ],
      "text/plain": [
       "   srch_destination_id        d1        d2        d3        d4        d5  \\\n",
       "0                    0 -2.198657 -2.198657 -2.198657 -2.198657 -2.198657   \n",
       "1                    1 -2.181690 -2.181690 -2.181690 -2.082564 -2.181690   \n",
       "2                    2 -2.183490 -2.224164 -2.224164 -2.189562 -2.105819   \n",
       "3                    3 -2.177409 -2.177409 -2.177409 -2.177409 -2.177409   \n",
       "4                    4 -2.189562 -2.187783 -2.194008 -2.171153 -2.152303   \n",
       "\n",
       "         d6        d7        d8        d9       d10       d11       d12  \\\n",
       "0 -1.897627 -2.198657 -2.198657 -1.897627 -2.198657 -2.198657 -2.198657   \n",
       "1 -2.165028 -2.181690 -2.181690 -2.031597 -2.181690 -2.181690 -2.181690   \n",
       "2 -2.075407 -2.224164 -2.118483 -2.140393 -2.224164 -2.209855 -2.224164   \n",
       "3 -2.115485 -2.177409 -2.177409 -2.177409 -2.177409 -2.161081 -2.177409   \n",
       "4 -2.056618 -2.194008 -2.194008 -2.145911 -2.194008 -2.089094 -2.194008   \n",
       "\n",
       "        d13       d14    ...         d135      d136      d137      d138  \\\n",
       "0 -2.198657 -2.198657    ...    -2.198657 -2.198657 -2.198657 -2.198657   \n",
       "1 -2.181690 -2.181690    ...    -2.181690 -2.181690 -2.148982 -2.181690   \n",
       "2 -2.110723 -2.186008    ...    -2.224164 -2.224164 -2.214572 -2.186008   \n",
       "3 -2.177409 -2.177409    ...    -2.177409 -2.177409 -2.115485 -2.177409   \n",
       "4 -2.155205 -2.070995    ...    -2.194008 -2.194008 -2.151470 -2.194008   \n",
       "\n",
       "       d139      d140      d141      d142      d143      d144      d145  \\\n",
       "0 -2.198657 -2.198657 -2.198657 -2.198657 -2.198657 -2.198657 -2.198657   \n",
       "1 -2.181690 -2.165028 -2.181690 -2.165028 -2.181690 -2.181690 -2.165028   \n",
       "2 -2.191569 -2.224164 -2.224164 -2.196379 -2.224164 -2.192009 -2.224164   \n",
       "3 -2.161081 -2.161081 -2.177409 -2.177409 -2.177409 -2.177409 -2.177409   \n",
       "4 -2.163242 -2.187356 -2.194008 -2.191779 -2.194008 -2.194008 -2.185161   \n",
       "\n",
       "       d146      d147      d148      d149  \n",
       "0 -2.198657 -2.198657 -2.198657 -2.198657  \n",
       "1 -2.181690 -2.181690 -2.181690 -2.181690  \n",
       "2 -2.224164 -2.224164 -2.224164 -2.057548  \n",
       "3 -2.177409 -2.177409 -2.177409 -2.177409  \n",
       "4 -2.194008 -2.194008 -2.194008 -2.188037  \n",
       "\n",
       "[5 rows x 150 columns]"
      ]
     },
     "execution_count": 49,
     "metadata": {},
     "output_type": "execute_result"
    }
   ],
   "source": [
    "expedia_destin = pd.read_csv(\"destinations.csv\")\n",
    "expedia_destin.head(5)\n"
   ]
  },
  {
   "cell_type": "code",
   "execution_count": 5,
   "metadata": {
    "collapsed": false
   },
   "outputs": [
    {
     "name": "stdout",
     "output_type": "stream",
     "text": [
      "   id            date_time  site_name  posa_continent  user_location_country  \\\n",
      "0   0  2015-09-03 17:09:54          2               3                     66   \n",
      "1   1  2015-09-24 17:38:35          2               3                     66   \n",
      "2   2  2015-06-07 15:53:02          2               3                     66   \n",
      "3   3  2015-09-14 14:49:10          2               3                     66   \n",
      "4   4  2015-07-17 09:32:04          2               3                     66   \n",
      "\n",
      "   user_location_region  user_location_city  orig_destination_distance  \\\n",
      "0                   174               37449                  5539.0567   \n",
      "1                   174               37449                  5873.2923   \n",
      "2                   142               17440                  3975.9776   \n",
      "3                   258               34156                  1508.5975   \n",
      "4                   467               36345                    66.7913   \n",
      "\n",
      "   user_id  is_mobile      ...          srch_ci     srch_co srch_adults_cnt  \\\n",
      "0        1          1      ...       2016-05-19  2016-05-23               2   \n",
      "1        1          1      ...       2016-05-12  2016-05-15               2   \n",
      "2       20          0      ...       2015-07-26  2015-07-27               4   \n",
      "3       28          0      ...       2015-09-14  2015-09-16               2   \n",
      "4       50          0      ...       2015-07-22  2015-07-23               2   \n",
      "\n",
      "  srch_children_cnt  srch_rm_cnt  srch_destination_id  \\\n",
      "0                 0            1                12243   \n",
      "1                 0            1                14474   \n",
      "2                 0            1                11353   \n",
      "3                 0            1                 8250   \n",
      "4                 0            1                11812   \n",
      "\n",
      "   srch_destination_type_id  hotel_continent  hotel_country  hotel_market  \n",
      "0                         6                6            204            27  \n",
      "1                         7                6            204          1540  \n",
      "2                         1                2             50           699  \n",
      "3                         1                2             50           628  \n",
      "4                         1                2             50           538  \n",
      "\n",
      "[5 rows x 22 columns]\n"
     ]
    }
   ],
   "source": [
    "expedia_test = pd.read_csv(\"test.csv\")\n",
    "print expedia_test.head(5)\n"
   ]
  },
  {
   "cell_type": "code",
   "execution_count": 18,
   "metadata": {
    "collapsed": false,
    "scrolled": false
   },
   "outputs": [
    {
     "name": "stdout",
     "output_type": "stream",
     "text": [
      "[ 1 80 21 92 41 69 70 98 10 18 28 25  2 16 94 77 24 58 36 82 46 30 29 57 85\n",
      "  5 59 62 81  6 53  8 73 26 95 13 42  9 55 91 72 65 56 68 75 38 67 78 43 37\n",
      " 99 35 20 90 50 22 64 60 11 97 89 83 14 51 15 40 45 84 54 76 17 49 32  7 88\n",
      " 79  4 39 47 19 33 48 93  0 34 63 96 44  3 12 86 71 61 66 52 87 31 27 23 74]\n",
      "100\n"
     ]
    }
   ],
   "source": [
    "print pd.unique(expedia_train[\"hotel_cluster\"].values)\n",
    "print (pd.unique(expedia_train[\"hotel_cluster\"].values)).size\n",
    "\n"
   ]
  },
  {
   "cell_type": "code",
   "execution_count": 25,
   "metadata": {
    "collapsed": false
   },
   "outputs": [
    {
     "name": "stdout",
     "output_type": "stream",
     "text": [
      "(100, 4)\n"
     ]
    }
   ],
   "source": [
    "a = pd.DataFrame(np.random.randint(0,100,size=(100, 4)), columns=list('ABCD'))\n",
    "# print a.head(5)\n",
    "\n",
    "# idx = a[\"A\"]<=20\n",
    "# print a[idx]\n",
    "print a.dropna(axis=1).shape\n"
   ]
  },
  {
   "cell_type": "code",
   "execution_count": 27,
   "metadata": {
    "collapsed": false,
    "scrolled": true
   },
   "outputs": [
    {
     "name": "stdout",
     "output_type": "stream",
     "text": [
      "(37670293, 22)\n",
      "(37670293, 22)\n",
      "(3000693, 22)\n"
     ]
    }
   ],
   "source": [
    "print expedia_train.shape\n",
    "expedia_train[\"orig_destination_distance\"].fillna(expedia_train[\"orig_destination_distance\"].mean(), inplace=True)\n",
    "expedia_train.dropna(axis=1, inplace=True)\n",
    "print expedia_train.shape\n",
    "idx = expedia_train[\"is_booking\"]==1\n",
    "expedia_train = expedia_train[idx]\n",
    "print expedia_train.shape\n",
    "\n"
   ]
  },
  {
   "cell_type": "code",
   "execution_count": 92,
   "metadata": {
    "collapsed": false
   },
   "outputs": [
    {
     "name": "stdout",
     "output_type": "stream",
     "text": [
      "How many happened so far bro?\n",
      "How many happened so far bro?\n",
      "How many happened so far bro?\n",
      "We are done training and prediction\n",
      "Size of predictions: \n",
      "3000693\n",
      "3000693\n"
     ]
    }
   ],
   "source": [
    "\n",
    "\n",
    "\n",
    "# Import the linear regression class\n",
    "from sklearn.linear_model import LinearRegression\n",
    "# Sklearn also has a helper that makes it easy to do cross validation\n",
    "from sklearn.cross_validation import KFold\n",
    "\n",
    "predictors = [\"user_location_country\", \"orig_destination_distance\",\n",
    "              \"srch_destination_id\",\n",
    "              \"hotel_continent\",\n",
    "             \"hotel_country\",\"hotel_market\"]\n",
    "\n",
    "# [\"orig_destination_distance\",\n",
    "#               \"srch_destination_id\",\n",
    "#               \"srch_destination_type_id\", \"hotel_continent\",\n",
    "#              \"hotel_country\",\"hotel_market\"]\n",
    "\n",
    "# [\"site_name\", \"posa_continent\", \n",
    "#               \"user_location_country\", \"user_location_region\",\n",
    "#               \"user_location_city\", \"orig_destination_distance\",\n",
    "#               \"is_mobile\", \"is_package\", \"channel\", \"srch_adults_cnt\",\n",
    "#               \"srch_children_cnt\", \"srch_rm_cnt\", \"srch_destination_id\",\n",
    "#               \"srch_destination_type_id\", \"hotel_continent\",\n",
    "#              \"hotel_country\",\"hotel_market\"]\n",
    "\n",
    "\n",
    "alg = LinearRegression()\n",
    "\n",
    "kf = KFold(expedia_train.shape[0], n_folds=3, random_state=1)\n",
    "predictions = []\n",
    "\n",
    "for train, test in kf:\n",
    "    # The predictors we're using the train the algorithm.  Note how we only take the rows in the train folds.\n",
    "    train_predictors = (expedia_train[predictors].iloc[train,:])\n",
    "    print(\"How many happened so far bro?\")\n",
    "    # The target we're using to train the algorithm.\n",
    "    train_target = expedia_train[\"hotel_cluster\"].iloc[train]\n",
    "    # Training the algorithm using the predictors and target.\n",
    "    alg.fit(train_predictors, train_target)\n",
    "    # We can now make predictions on the test fold\n",
    "    test_predictions = alg.predict(expedia_train[predictors].iloc[test,:])\n",
    "    predictions.append(test_predictions)\n",
    "print \"We are done training and prediction\"\n",
    "predictions = np.concatenate(predictions, axis=0)\n",
    "print \"Size of predictions: \"\n",
    "print predictions.size\n",
    "print expedia_train.shape[0]\n",
    "\n",
    "\n",
    "\n",
    "\n",
    "\n",
    "\n",
    "\n",
    "\n"
   ]
  },
  {
   "cell_type": "code",
   "execution_count": 93,
   "metadata": {
    "collapsed": false
   },
   "outputs": [
    {
     "name": "stdout",
     "output_type": "stream",
     "text": [
      "DescribeResult(nobs=3000693, minmax=(44.111723142995849, 55.145349761313184), mean=47.690749796782981, variance=1.7534025647512681, skewness=0.628041344263907, kurtosis=0.9454505461709846)\n"
     ]
    }
   ],
   "source": [
    "import scipy.stats as stat \n",
    "print stat.describe(predictions)"
   ]
  },
  {
   "cell_type": "code",
   "execution_count": 94,
   "metadata": {
    "collapsed": false
   },
   "outputs": [
    {
     "name": "stdout",
     "output_type": "stream",
     "text": [
      "[ 47.33586466  45.8176219   45.47623222  48.55460517  48.55460517\n",
      "  48.55460517  49.97528791  49.84843135  49.29501408]\n",
      "0.0216656618988\n"
     ]
    }
   ],
   "source": [
    "import numpy as np\n",
    "\n",
    "# The predictions are in three separate numpy arrays.  Concatenate them into one.  \n",
    "# We concatenate them on axis 0, as they only have one axis.\n",
    "\n",
    "\n",
    "print predictions[1:10]\n",
    "# print predictions.dtype\n",
    "# print predictions.size\n",
    "# print expedia_train.shape[0]\n",
    "rounded_predictions = np.around(predictions);\n",
    "\n",
    "# rounded_predictions = np.zeros(predictions.shape[0])\n",
    "\n",
    "# print(predictions==titanic[\"Survived\"])\n",
    "\n",
    "accuracy = (sum(rounded_predictions==expedia_train[\"hotel_cluster\"])*1.0)/rounded_predictions.shape[0]\n",
    "print(accuracy)\n",
    "\n",
    "\n",
    "\n"
   ]
  },
  {
   "cell_type": "code",
   "execution_count": 87,
   "metadata": {
    "collapsed": false
   },
   "outputs": [
    {
     "name": "stdout",
     "output_type": "stream",
     "text": [
      "(2528243, 22)\n",
      "(3000693, 22)\n",
      "(2528243, 20)\n"
     ]
    }
   ],
   "source": [
    "testdata = pd.read_csv(\"test.csv\")\n",
    "\n",
    "print testdata.shape\n",
    "testdata[\"orig_destination_distance\"].fillna(testdata[\"orig_destination_distance\"].mean(), inplace=True)\n",
    "testdata.dropna(axis=1, inplace=True)\n",
    "print expedia_train.shape\n",
    "print testdata.shape\n",
    "\n",
    "\n"
   ]
  },
  {
   "cell_type": "code",
   "execution_count": 43,
   "metadata": {
    "collapsed": false
   },
   "outputs": [
    {
     "name": "stdout",
     "output_type": "stream",
     "text": [
      "(3000693, 22)\n",
      "(2528243, 20)\n"
     ]
    }
   ],
   "source": [
    "print expedia_train.shape\n",
    "print testdata.shape"
   ]
  },
  {
   "cell_type": "code",
   "execution_count": 44,
   "metadata": {
    "collapsed": false
   },
   "outputs": [
    {
     "data": {
      "text/html": [
       "<div>\n",
       "<table border=\"1\" class=\"dataframe\">\n",
       "  <thead>\n",
       "    <tr style=\"text-align: right;\">\n",
       "      <th></th>\n",
       "      <th>id</th>\n",
       "      <th>date_time</th>\n",
       "      <th>site_name</th>\n",
       "      <th>posa_continent</th>\n",
       "      <th>user_location_country</th>\n",
       "      <th>user_location_region</th>\n",
       "      <th>user_location_city</th>\n",
       "      <th>orig_destination_distance</th>\n",
       "      <th>user_id</th>\n",
       "      <th>is_mobile</th>\n",
       "      <th>is_package</th>\n",
       "      <th>channel</th>\n",
       "      <th>srch_adults_cnt</th>\n",
       "      <th>srch_children_cnt</th>\n",
       "      <th>srch_rm_cnt</th>\n",
       "      <th>srch_destination_id</th>\n",
       "      <th>srch_destination_type_id</th>\n",
       "      <th>hotel_continent</th>\n",
       "      <th>hotel_country</th>\n",
       "      <th>hotel_market</th>\n",
       "    </tr>\n",
       "  </thead>\n",
       "  <tbody>\n",
       "    <tr>\n",
       "      <th>0</th>\n",
       "      <td>0</td>\n",
       "      <td>2015-09-03 17:09:54</td>\n",
       "      <td>2</td>\n",
       "      <td>3</td>\n",
       "      <td>66</td>\n",
       "      <td>174</td>\n",
       "      <td>37449</td>\n",
       "      <td>5539.0567</td>\n",
       "      <td>1</td>\n",
       "      <td>1</td>\n",
       "      <td>0</td>\n",
       "      <td>3</td>\n",
       "      <td>2</td>\n",
       "      <td>0</td>\n",
       "      <td>1</td>\n",
       "      <td>12243</td>\n",
       "      <td>6</td>\n",
       "      <td>6</td>\n",
       "      <td>204</td>\n",
       "      <td>27</td>\n",
       "    </tr>\n",
       "    <tr>\n",
       "      <th>1</th>\n",
       "      <td>1</td>\n",
       "      <td>2015-09-24 17:38:35</td>\n",
       "      <td>2</td>\n",
       "      <td>3</td>\n",
       "      <td>66</td>\n",
       "      <td>174</td>\n",
       "      <td>37449</td>\n",
       "      <td>5873.2923</td>\n",
       "      <td>1</td>\n",
       "      <td>1</td>\n",
       "      <td>0</td>\n",
       "      <td>10</td>\n",
       "      <td>2</td>\n",
       "      <td>0</td>\n",
       "      <td>1</td>\n",
       "      <td>14474</td>\n",
       "      <td>7</td>\n",
       "      <td>6</td>\n",
       "      <td>204</td>\n",
       "      <td>1540</td>\n",
       "    </tr>\n",
       "    <tr>\n",
       "      <th>2</th>\n",
       "      <td>2</td>\n",
       "      <td>2015-06-07 15:53:02</td>\n",
       "      <td>2</td>\n",
       "      <td>3</td>\n",
       "      <td>66</td>\n",
       "      <td>142</td>\n",
       "      <td>17440</td>\n",
       "      <td>3975.9776</td>\n",
       "      <td>20</td>\n",
       "      <td>0</td>\n",
       "      <td>0</td>\n",
       "      <td>1</td>\n",
       "      <td>4</td>\n",
       "      <td>0</td>\n",
       "      <td>1</td>\n",
       "      <td>11353</td>\n",
       "      <td>1</td>\n",
       "      <td>2</td>\n",
       "      <td>50</td>\n",
       "      <td>699</td>\n",
       "    </tr>\n",
       "    <tr>\n",
       "      <th>3</th>\n",
       "      <td>3</td>\n",
       "      <td>2015-09-14 14:49:10</td>\n",
       "      <td>2</td>\n",
       "      <td>3</td>\n",
       "      <td>66</td>\n",
       "      <td>258</td>\n",
       "      <td>34156</td>\n",
       "      <td>1508.5975</td>\n",
       "      <td>28</td>\n",
       "      <td>0</td>\n",
       "      <td>1</td>\n",
       "      <td>10</td>\n",
       "      <td>2</td>\n",
       "      <td>0</td>\n",
       "      <td>1</td>\n",
       "      <td>8250</td>\n",
       "      <td>1</td>\n",
       "      <td>2</td>\n",
       "      <td>50</td>\n",
       "      <td>628</td>\n",
       "    </tr>\n",
       "    <tr>\n",
       "      <th>4</th>\n",
       "      <td>4</td>\n",
       "      <td>2015-07-17 09:32:04</td>\n",
       "      <td>2</td>\n",
       "      <td>3</td>\n",
       "      <td>66</td>\n",
       "      <td>467</td>\n",
       "      <td>36345</td>\n",
       "      <td>66.7913</td>\n",
       "      <td>50</td>\n",
       "      <td>0</td>\n",
       "      <td>0</td>\n",
       "      <td>0</td>\n",
       "      <td>2</td>\n",
       "      <td>0</td>\n",
       "      <td>1</td>\n",
       "      <td>11812</td>\n",
       "      <td>1</td>\n",
       "      <td>2</td>\n",
       "      <td>50</td>\n",
       "      <td>538</td>\n",
       "    </tr>\n",
       "  </tbody>\n",
       "</table>\n",
       "</div>"
      ],
      "text/plain": [
       "   id            date_time  site_name  posa_continent  user_location_country  \\\n",
       "0   0  2015-09-03 17:09:54          2               3                     66   \n",
       "1   1  2015-09-24 17:38:35          2               3                     66   \n",
       "2   2  2015-06-07 15:53:02          2               3                     66   \n",
       "3   3  2015-09-14 14:49:10          2               3                     66   \n",
       "4   4  2015-07-17 09:32:04          2               3                     66   \n",
       "\n",
       "   user_location_region  user_location_city  orig_destination_distance  \\\n",
       "0                   174               37449                  5539.0567   \n",
       "1                   174               37449                  5873.2923   \n",
       "2                   142               17440                  3975.9776   \n",
       "3                   258               34156                  1508.5975   \n",
       "4                   467               36345                    66.7913   \n",
       "\n",
       "   user_id  is_mobile  is_package  channel  srch_adults_cnt  \\\n",
       "0        1          1           0        3                2   \n",
       "1        1          1           0       10                2   \n",
       "2       20          0           0        1                4   \n",
       "3       28          0           1       10                2   \n",
       "4       50          0           0        0                2   \n",
       "\n",
       "   srch_children_cnt  srch_rm_cnt  srch_destination_id  \\\n",
       "0                  0            1                12243   \n",
       "1                  0            1                14474   \n",
       "2                  0            1                11353   \n",
       "3                  0            1                 8250   \n",
       "4                  0            1                11812   \n",
       "\n",
       "   srch_destination_type_id  hotel_continent  hotel_country  hotel_market  \n",
       "0                         6                6            204            27  \n",
       "1                         7                6            204          1540  \n",
       "2                         1                2             50           699  \n",
       "3                         1                2             50           628  \n",
       "4                         1                2             50           538  "
      ]
     },
     "execution_count": 44,
     "metadata": {},
     "output_type": "execute_result"
    }
   ],
   "source": [
    "pd.set_option(\"display.max_rows\",999)\n",
    "\n",
    "testdata.head()\n",
    "\n"
   ]
  },
  {
   "cell_type": "code",
   "execution_count": 48,
   "metadata": {
    "collapsed": false
   },
   "outputs": [
    {
     "name": "stdout",
     "output_type": "stream",
     "text": [
      "1     9\n",
      "20    4\n",
      "27    9\n",
      "72    9\n",
      "79    1\n",
      "Name: channel, dtype: int64\n",
      "1     2\n",
      "20    2\n",
      "27    2\n",
      "72    2\n",
      "79    3\n",
      "Name: srch_adults_cnt, dtype: int64\n"
     ]
    }
   ],
   "source": [
    "pd.set_option(\"display.max_rows\",999)\n",
    "\n",
    "print expedia_train[\"channel\"].head(5)\n",
    "print expedia_train[\"srch_adults_cnt\"].head(5)"
   ]
  },
  {
   "cell_type": "code",
   "execution_count": 88,
   "metadata": {
    "collapsed": false
   },
   "outputs": [
    {
     "name": "stdout",
     "output_type": "stream",
     "text": [
      "(2528243,)\n",
      "   hotel_cluster  id\n",
      "0           46.0   0\n",
      "1           49.0   1\n",
      "2           50.0   2\n",
      "3           48.0   3\n",
      "4           48.0   4\n"
     ]
    }
   ],
   "source": [
    "#Creating a submission file \n",
    "\n",
    "\n",
    "testpredictions = alg.predict(testdata[predictors])\n",
    "print testpredictions.shape\n",
    "\n",
    "\n",
    "testpredictions = testpredictions.round()\n",
    "\n",
    "\n",
    "# Create a new dataframe with only the columns Kaggle wants from the dataset.\n",
    "submission = pd.DataFrame({\n",
    "        \"id\": testdata[\"id\"],\n",
    "        \"hotel_cluster\": testpredictions\n",
    "    })\n",
    "\n",
    "\n",
    "csvfile = submission.to_csv(\"kaggle.csv\", header=True, index=False, float_format='%.f',columns=[\"id\",\"hotel_cluster\"])\n",
    "print submission.head(5)\n"
   ]
  },
  {
   "cell_type": "code",
   "execution_count": 3,
   "metadata": {
    "collapsed": false
   },
   "outputs": [],
   "source": [
    "from sklearn import cross_validation\n",
    "from sklearn.linear_model import LogisticRegression\n",
    "\n",
    "predictors = [\"srch_destination_id\",\"hotel_market\"]\n",
    "\n",
    "# Initialize the algorithm class\n",
    "alg = LogisticRegression(random_state=1)\n",
    "\n",
    "# Train the algorithm using all the training data\n",
    "alg.fit(expedia_train[predictors], expedia_train[\"hotel_cluster\"])\n",
    "\n",
    "predictions = alg.predict(expedia_train[predictors])\n",
    "predictions = predictions.round()\n",
    "\n"
   ]
  },
  {
   "cell_type": "code",
   "execution_count": 3,
   "metadata": {
    "collapsed": false
   },
   "outputs": [
    {
     "name": "stdout",
     "output_type": "stream",
     "text": [
      "done predicting train set\n",
      "0.0526596681762\n"
     ]
    }
   ],
   "source": [
    "from sklearn.naive_bayes import GaussianNB\n",
    "\n",
    "expedia_train = pd.read_csv(\"train.csv\")\n",
    "# print expedia_train.head(5)\n",
    "\n",
    "gnb = GaussianNB()\n",
    "\n",
    "predictors = [\"srch_destination_id\",\"hotel_market\"]\n",
    "\n",
    "# Train the algorithm using all the training data\n",
    "gnb.fit(expedia_train[predictors], expedia_train[\"hotel_cluster\"])\n",
    "\n",
    "expedia_train_17 = pd.read_csv(\"train.17.csv\")\n",
    "\n",
    "predictions = gnb.predict(expedia_train_17[predictors])\n",
    "\n",
    "predictions = predictions.round()\n",
    "\n",
    "\n",
    "\n",
    "# Initialize the algorithm class\n",
    "# alg = LogisticRegression(random_state=1)\n",
    "\n",
    "# # Train the algorithm using all the training data\n",
    "# alg.fit(expedia_train[predictors], expedia_train[\"hotel_cluster\"])\n",
    "# print \"done fitting\"\n",
    "# predictions = alg.predict(titanic_train[predictors])\n",
    "print \"done predicting train set\"\n",
    "accuracy = (sum(predictions==expedia_train_17[\"hotel_cluster\"])*1.0)/expedia_train_17.shape[0]\n",
    "print accuracy\n",
    "\n",
    "# Make predictions using the test set.\n",
    "# predictions = alg.predict(titanic_test[predictors]"
   ]
  },
  {
   "cell_type": "code",
   "execution_count": null,
   "metadata": {
    "collapsed": true
   },
   "outputs": [],
   "source": []
  },
  {
   "cell_type": "code",
   "execution_count": 6,
   "metadata": {
    "collapsed": false
   },
   "outputs": [
    {
     "ename": "AttributeError",
     "evalue": "'numpy.ndarray' object has no attribute 'head'",
     "output_type": "error",
     "traceback": [
      "\u001b[0;31m---------------------------------------------------------------------------\u001b[0m",
      "\u001b[0;31mAttributeError\u001b[0m                            Traceback (most recent call last)",
      "\u001b[0;32m<ipython-input-6-69adc4b388f4>\u001b[0m in \u001b[0;36m<module>\u001b[0;34m()\u001b[0m\n\u001b[0;32m----> 1\u001b[0;31m \u001b[0;32mprint\u001b[0m \u001b[0mpredictions\u001b[0m\u001b[0;34m.\u001b[0m\u001b[0mhead\u001b[0m\u001b[0;34m(\u001b[0m\u001b[0;36m5\u001b[0m\u001b[0;34m)\u001b[0m\u001b[0;34m\u001b[0m\u001b[0m\n\u001b[0m",
      "\u001b[0;31mAttributeError\u001b[0m: 'numpy.ndarray' object has no attribute 'head'"
     ]
    }
   ],
   "source": [
    "print predictions.head(5)\n"
   ]
  },
  {
   "cell_type": "code",
   "execution_count": 8,
   "metadata": {
    "collapsed": false
   },
   "outputs": [
    {
     "name": "stdout",
     "output_type": "stream",
     "text": [
      "done predicting train set\n",
      "0.0319595427837\n"
     ]
    }
   ],
   "source": [
    "\n",
    "# Initialize the algorithm class\n",
    "# alg = LogisticRegression(random_state=1)\n",
    "\n",
    "# # Train the algorithm using all the training data\n",
    "# alg.fit(expedia_train[predictors], expedia_train[\"hotel_cluster\"])\n",
    "# print \"done fitting\"\n",
    "# predictions = alg.predict(titanic_train[predictors])\n",
    "print \"done predicting train set\"\n",
    "accuracy = (sum(predictions==expedia_train[\"hotel_cluster\"])*1.0)/predictions.shape[0]\n",
    "print accuracy\n",
    "\n",
    "# Make predictions using the test set.\n",
    "# predictions = alg.predict(titanic_test[predictors]\n"
   ]
  },
  {
   "cell_type": "code",
   "execution_count": 6,
   "metadata": {
    "collapsed": true
   },
   "outputs": [
    {
     "name": "stdout",
     "output_type": "stream",
     "text": [
      "(2528243,)\n"
     ]
    },
    {
     "ename": "NameError",
     "evalue": "name 'testdata' is not defined",
     "output_type": "error",
     "traceback": [
      "\u001b[0;31m---------------------------------------------------------------------------\u001b[0m",
      "\u001b[0;31mNameError\u001b[0m                                 Traceback (most recent call last)",
      "\u001b[0;32m<ipython-input-6-0ea228d31e39>\u001b[0m in \u001b[0;36m<module>\u001b[0;34m()\u001b[0m\n\u001b[1;32m     10\u001b[0m \u001b[0;31m# Create a new dataframe with only the columns Kaggle wants from the dataset.\u001b[0m\u001b[0;34m\u001b[0m\u001b[0;34m\u001b[0m\u001b[0m\n\u001b[1;32m     11\u001b[0m submission = pd.DataFrame({\n\u001b[0;32m---> 12\u001b[0;31m         \u001b[0;34m\"id\"\u001b[0m\u001b[0;34m:\u001b[0m \u001b[0mtestdata\u001b[0m\u001b[0;34m[\u001b[0m\u001b[0;34m\"id\"\u001b[0m\u001b[0;34m]\u001b[0m\u001b[0;34m,\u001b[0m\u001b[0;34m\u001b[0m\u001b[0m\n\u001b[0m\u001b[1;32m     13\u001b[0m         \u001b[0;34m\"hotel_cluster\"\u001b[0m\u001b[0;34m:\u001b[0m \u001b[0mtest_pred\u001b[0m\u001b[0;34m\u001b[0m\u001b[0m\n\u001b[1;32m     14\u001b[0m     })\n",
      "\u001b[0;31mNameError\u001b[0m: name 'testdata' is not defined"
     ]
    }
   ],
   "source": [
    "\n",
    "# Make predictions using the test set.\n",
    "test_pred = gnb.predict(expedia_test[predictors])\n",
    "print test_pred.shape\n",
    "\n",
    "\n",
    "test_pred = test_pred.round()\n"
   ]
  },
  {
   "cell_type": "code",
   "execution_count": 7,
   "metadata": {
    "collapsed": false
   },
   "outputs": [
    {
     "name": "stdout",
     "output_type": "stream",
     "text": [
      "   hotel_cluster  id\n",
      "0             65   0\n",
      "1             65   1\n",
      "2             91   2\n",
      "3              1   3\n",
      "4             91   4\n"
     ]
    }
   ],
   "source": [
    "\n",
    "\n",
    "# Create a new dataframe with only the columns Kaggle wants from the dataset.\n",
    "submission = pd.DataFrame({\n",
    "        \"id\": expedia_test[\"id\"],\n",
    "        \"hotel_cluster\": test_pred\n",
    "    })\n",
    "\n",
    "\n",
    "csvfile = submission.to_csv(\"kaggle_gnb.csv\", header=True, index=False, float_format='%.f',columns=[\"id\",\"hotel_cluster\"])\n",
    "print submission.head(5)\n",
    "\n"
   ]
  },
  {
   "cell_type": "code",
   "execution_count": null,
   "metadata": {
    "collapsed": true
   },
   "outputs": [],
   "source": []
  },
  {
   "cell_type": "code",
   "execution_count": null,
   "metadata": {
    "collapsed": true
   },
   "outputs": [],
   "source": [
    "\n",
    "\n",
    "\n",
    "\n",
    "# Make predictions using the test set.\n",
    "predictions = alg.predict(testdata[predictors])\n",
    "print predictions.shape\n",
    "\n",
    "\n",
    "testpredictions = predictions.round()\n",
    "\n",
    "\n",
    "# Create a new dataframe with only the columns Kaggle wants from the dataset.\n",
    "submission = pd.DataFrame({\n",
    "        \"id\": testdata[\"id\"],\n",
    "        \"hotel_cluster\": predictions\n",
    "    })\n",
    "\n",
    "\n",
    "csvfile = submission.to_csv(\"kaggle_logistic.csv\", header=True, index=False, float_format='%.f',columns=[\"id\",\"hotel_cluster\"])\n",
    "print submission.head(5)\n",
    ")\n"
   ]
  }
 ],
 "metadata": {
  "kernelspec": {
   "display_name": "Python 2",
   "language": "python",
   "name": "python2"
  },
  "language_info": {
   "codemirror_mode": {
    "name": "ipython",
    "version": 2
   },
   "file_extension": ".py",
   "mimetype": "text/x-python",
   "name": "python",
   "nbconvert_exporter": "python",
   "pygments_lexer": "ipython2",
   "version": "2.7.11"
  }
 },
 "nbformat": 4,
 "nbformat_minor": 0
}
